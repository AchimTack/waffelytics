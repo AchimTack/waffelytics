{
 "cells": [
  {
   "cell_type": "markdown",
   "metadata": {},
   "source": [
    "## imports & functions"
   ]
  },
  {
   "cell_type": "code",
   "execution_count": 1,
   "metadata": {},
   "outputs": [],
   "source": [
    "import pandas as pd\n",
    "import json \n",
    "import os\n",
    "import codecs\n",
    "import numpy as np"
   ]
  },
  {
   "cell_type": "markdown",
   "metadata": {},
   "source": [
    "## main script"
   ]
  },
  {
   "cell_type": "code",
   "execution_count": 2,
   "metadata": {},
   "outputs": [],
   "source": [
    "query = 'goji'\n",
    "query_folder = '../data/html/'+query"
   ]
  },
  {
   "cell_type": "code",
   "execution_count": 3,
   "metadata": {},
   "outputs": [],
   "source": [
    "def split_data_frame_list(df, target_column):\n",
    "    \"\"\"\n",
    "    Splits a column with lists into rows\n",
    "    \n",
    "    Keyword arguments:\n",
    "        df -- dataframe\n",
    "        target_column -- name of column that contains lists        \n",
    "    \"\"\"\n",
    "    \n",
    "    # create a new dataframe with each item in a seperate column, dropping rows with missing values\n",
    "    col_df = pd.DataFrame(df[target_column].dropna().tolist(),index=df[target_column].dropna().index)\n",
    "\n",
    "    # create a series with columns stacked as rows         \n",
    "    stacked = col_df.stack()\n",
    "\n",
    "    # rename last column to 'idx'\n",
    "    index = stacked.index.rename(names=\"ingr_id\", level=-1)\n",
    "    new_df = pd.DataFrame(stacked, index=index, columns=[target_column])\n",
    "    return new_df\n",
    "\n",
    "def parseIngredients(ingredientStr):\n",
    "    ingredientStr = ingredientStr.strip()\n",
    "    ingredientStr = ingredientStr.replace(',','.')\n",
    "    ingredientStr = ingredientStr.replace('(','').replace(')','')\n",
    "    ingredientStr = ingredientStr.replace('.00','')\n",
    "    \n",
    "    ingredientStr = ingredientStr.replace('Prisen','g')\n",
    "    ingredientStr = ingredientStr.replace('Spritzer',' g')\n",
    "    \n",
    "    ingredientStr = ingredientStr.replace('1 Eier','65 g Ei')\n",
    "    ingredientStr = ingredientStr.replace('2 Eier','130 g Ei')\n",
    "    ingredientStr = ingredientStr.replace('3 Eier','195 g Ei')\n",
    "    ingredientStr = ingredientStr.replace('4 Eier','260 g Ei')\n",
    "    ingredientStr = ingredientStr.replace('5 Eier','325 g Ei')\n",
    "    \n",
    "    ingredientStr = ingredientStr.replace('1 Pck.','7.00 g')\n",
    "    ingredientStr = ingredientStr.replace('1 Pkt.','7.00 g')\n",
    "    ingredientStr = ingredientStr.replace('2 Pck.','14.00 g')\n",
    "    ingredientStr = ingredientStr.replace('0.50 Pck.','3.50 g')\n",
    "    \n",
    "    ingredientStr = ingredientStr.replace('1 EL','15.00 g')\n",
    "    ingredientStr = ingredientStr.replace('2 EL','30.00 g')\n",
    "    \n",
    "    ingredientStr = ingredientStr.replace('1 TL','3 g')   \n",
    "    \n",
    "    return ingredientStr\n",
    "\n",
    "def splitIngredients(ingredientStr):\n",
    "    try:\n",
    "        ingredientStr = ingredientStr.split(' ')[0]\n",
    "    except:\n",
    "        ingredientStr\n",
    "    \n",
    "    return ingredientStr\n",
    "\n",
    "def harmonizeIngredient(ingredientStr):\n",
    "    if 'zucker' in ingredientStr: \n",
    "        ingredientStr = 'Zucker'\n",
    "        \n",
    "    if \"mehl\" in ingredientStr:\n",
    "        ingredientStr = 'Mehl'\n",
    " \n",
    "    return ingredientStr"
   ]
  },
  {
   "cell_type": "markdown",
   "metadata": {},
   "source": [
    "## parse saved html files to dataframe"
   ]
  },
  {
   "cell_type": "code",
   "execution_count": 5,
   "metadata": {},
   "outputs": [],
   "source": [
    "recipe_values = []\n",
    "\n",
    "for file in os.listdir(query_folder):\n",
    "    if file.endswith(\".html\"):\n",
    "        recipe_id = file.split('.html')[0]\n",
    "        html_doc = os.path.join(query_folder, file)\n",
    "        html_string = codecs.open(html_doc,'r', encoding=\"utf8\").read()\n",
    "        \n",
    "        recipe_json = html_string.split('<script type=\"application/ld+json\">')[2].split('</script>')[0]\n",
    "        recipe_dict = json.loads(recipe_json)\n",
    "        \n",
    "        try:\n",
    "            rating = float(recipe_dict['aggregateRating']['ratingValue'])\n",
    "        except:\n",
    "            rating = None\n",
    "        \n",
    "        try:\n",
    "            ingredients = recipe_dict['recipeIngredient']\n",
    "        except Exception as r:\n",
    "            print(r)\n",
    "            ingredients = []\n",
    "            \n",
    "        try:\n",
    "            datePublished = recipe_dict['datePublished']\n",
    "        except Exception as r:\n",
    "            datePublished = None\n",
    "        \n",
    "        values = (recipe_id, datePublished, rating, ingredients)\n",
    "        recipe_values.append(values)\n",
    "        \n",
    "df = pd.DataFrame(recipe_values)\n",
    "df.columns = ['recipe_id', 'datePublished', 'rating','ingredients']\n",
    "df['datePublished'] =  pd.to_datetime(df['datePublished'], format='%Y-%m-%d')\n",
    "df = df.set_index('datePublished')"
   ]
  },
  {
   "cell_type": "markdown",
   "metadata": {},
   "source": [
    "## recipes by quarter"
   ]
  },
  {
   "cell_type": "code",
   "execution_count": 7,
   "metadata": {},
   "outputs": [
    {
     "data": {
      "text/plain": [
       "<matplotlib.axes._subplots.AxesSubplot at 0x233b2b715f8>"
      ]
     },
     "execution_count": 7,
     "metadata": {},
     "output_type": "execute_result"
    },
    {
     "data": {
      "image/png": "[encoded data removed]",
      "text/plain": [
       "<Figure size 720x432 with 1 Axes>"
      ]
     },
     "metadata": {
      "needs_background": "light"
     },
     "output_type": "display_data"
    }
   ],
   "source": [
    "years = df.resample('q').count()\n",
    "years = years.cumsum()\n",
    "years.to_excel('../data/xlsx/'+query+'.xlsx')\n",
    "years['recipe_id'].plot(title='Anzahl Rezepte im Zeitverlauf', figsize=(10,6), color='darkred')"
   ]
  },
  {
   "cell_type": "markdown",
   "metadata": {},
   "source": [
    "## parse ingredients"
   ]
  },
  {
   "cell_type": "code",
   "execution_count": 27,
   "metadata": {},
   "outputs": [
    {
     "data": {
      "text/html": [
       "<div>\n",
       "<style scoped>\n",
       "    .dataframe tbody tr th:only-of-type {\n",
       "        vertical-align: middle;\n",
       "    }\n",
       "\n",
       "    .dataframe tbody tr th {\n",
       "        vertical-align: top;\n",
       "    }\n",
       "\n",
       "    .dataframe thead th {\n",
       "        text-align: right;\n",
       "    }\n",
       "</style>\n",
       "<table border=\"1\" class=\"dataframe\">\n",
       "  <thead>\n",
       "    <tr style=\"text-align: right;\">\n",
       "      <th></th>\n",
       "      <th>recipe_id</th>\n",
       "      <th>rating</th>\n",
       "      <th>ingr_id</th>\n",
       "      <th>amount</th>\n",
       "      <th>ingredient</th>\n",
       "    </tr>\n",
       "  </thead>\n",
       "  <tbody>\n",
       "    <tr>\n",
       "      <th>2</th>\n",
       "      <td>1001121205401243</td>\n",
       "      <td>3.15</td>\n",
       "      <td>2</td>\n",
       "      <td>40</td>\n",
       "      <td>Zucker</td>\n",
       "    </tr>\n",
       "    <tr>\n",
       "      <th>3</th>\n",
       "      <td>1001121205401243</td>\n",
       "      <td>3.15</td>\n",
       "      <td>3</td>\n",
       "      <td>1</td>\n",
       "      <td>Salz</td>\n",
       "    </tr>\n",
       "    <tr>\n",
       "      <th>5</th>\n",
       "      <td>1001121205401243</td>\n",
       "      <td>3.15</td>\n",
       "      <td>5</td>\n",
       "      <td>180</td>\n",
       "      <td>Mehl</td>\n",
       "    </tr>\n",
       "    <tr>\n",
       "      <th>6</th>\n",
       "      <td>1001121205401243</td>\n",
       "      <td>3.15</td>\n",
       "      <td>6</td>\n",
       "      <td>7.00</td>\n",
       "      <td>Backpulver</td>\n",
       "    </tr>\n",
       "    <tr>\n",
       "      <th>11</th>\n",
       "      <td>1003191205518741</td>\n",
       "      <td>2.60</td>\n",
       "      <td>2</td>\n",
       "      <td>7.00</td>\n",
       "      <td>Puddingpulver</td>\n",
       "    </tr>\n",
       "  </tbody>\n",
       "</table>\n",
       "</div>"
      ],
      "text/plain": [
       "           recipe_id  rating  ingr_id amount     ingredient\n",
       "2   1001121205401243    3.15        2     40         Zucker\n",
       "3   1001121205401243    3.15        3      1           Salz\n",
       "5   1001121205401243    3.15        5    180           Mehl\n",
       "6   1001121205401243    3.15        6   7.00     Backpulver\n",
       "11  1003191205518741    2.60        2   7.00  Puddingpulver"
      ]
     },
     "execution_count": 27,
     "metadata": {},
     "output_type": "execute_result"
    }
   ],
   "source": [
    "# convert ingredients column to rows\n",
    "df_ingredients = split_data_frame_list(df, target_column=\"ingredients\")\n",
    "df_ingredients = df_ingredients.reset_index()\n",
    "df = df.drop(['ingredients'], axis=1)\n",
    "\n",
    "# merge dataframes\n",
    "df = df.reset_index()\n",
    "df_merge = df.merge(df_ingredients, how='outer', on='recipe_id')\n",
    "\n",
    "# drop recipes without rating\n",
    "df_merge = df_merge.dropna(subset = ['rating'])\n",
    "\n",
    "# parse ingredients, filter for gram values and create corresponding columns\n",
    "df_merge['ingredients'] = df_merge['ingredients'].apply(parseIngredients)\n",
    "df_merge = df_merge[df_merge['ingredients'].str.contains(' g ')]\n",
    "\n",
    "temp = df_merge[\"ingredients\"].str.split(\" g \", n = 1, expand = True) \n",
    "df_merge[\"amount\"] = temp[0]\n",
    "df_merge[\"amount\"] = df_merge[\"amount\"].astype(float, errors='ignore')\n",
    "df_merge[\"ingredient\"] = temp[1]\n",
    "df_merge['ingredient'] = df_merge['ingredient'].apply(splitIngredients)\n",
    "df_merge['ingredient'] = df_merge['ingredient'].apply(harmonizeIngredient)\n",
    "\n",
    "df_merge = df_merge.drop(['ingredients'], axis=1)\n",
    "\n",
    "df_merge.head()"
   ]
  },
  {
   "cell_type": "code",
   "execution_count": 80,
   "metadata": {},
   "outputs": [],
   "source": [
    "df_merge.to_excel('test.xlsx')"
   ]
  },
  {
   "cell_type": "code",
   "execution_count": null,
   "metadata": {},
   "outputs": [],
   "source": []
  }
 ],
 "metadata": {
  "kernelspec": {
   "display_name": "Python 3",
   "language": "python",
   "name": "python3"
  },
  "language_info": {
   "codemirror_mode": {
    "name": "ipython",
    "version": 3
   },
   "file_extension": ".py",
   "mimetype": "text/x-python",
   "name": "python",
   "nbconvert_exporter": "python",
   "pygments_lexer": "ipython3",
   "version": "3.6.8"
  },
  "toc": {
   "base_numbering": 1,
   "nav_menu": {},
   "number_sections": true,
   "sideBar": true,
   "skip_h1_title": true,
   "title_cell": "Table of Contents",
   "title_sidebar": "Contents",
   "toc_cell": false,
   "toc_position": {},
   "toc_section_display": true,
   "toc_window_display": false
  }
 },
 "nbformat": 4,
 "nbformat_minor": 2
}
