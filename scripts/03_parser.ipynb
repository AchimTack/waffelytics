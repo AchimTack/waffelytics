{
 "cells": [
  {
   "cell_type": "code",
   "execution_count": 1,
   "metadata": {},
   "outputs": [],
   "source": [
    "import pandas as pd\n",
    "import json \n",
    "import os\n",
    "import codecs\n",
    "import numpy as np"
   ]
  },
  {
   "cell_type": "code",
   "execution_count": 2,
   "metadata": {},
   "outputs": [],
   "source": [
    "def split_data_frame_list(df, target_column):\n",
    "    \"\"\"\n",
    "    Splits a column with lists into rows\n",
    "    \n",
    "    Keyword arguments:\n",
    "        df -- dataframe\n",
    "        target_column -- name of column that contains lists        \n",
    "    \"\"\"\n",
    "    \n",
    "    # create a new dataframe with each item in a seperate column, dropping rows with missing values\n",
    "    col_df = pd.DataFrame(df[target_column].dropna().tolist(),index=df[target_column].dropna().index)\n",
    "\n",
    "    # create a series with columns stacked as rows         \n",
    "    stacked = col_df.stack()\n",
    "\n",
    "    # rename last column to 'idx'\n",
    "    index = stacked.index.rename(names=\"ingr_id\", level=-1)\n",
    "    new_df = pd.DataFrame(stacked, index=index, columns=[target_column])\n",
    "    return new_df\n",
    "\n",
    "def parseIngredients(ingredientStr):\n",
    "    \n",
    "    ingredientStr = ingredientStr.replace('Prise(n)','g')\n",
    "    ingredientStr = ingredientStr.replace('1.00 Pck.','7.00 g')\n",
    "    ingredientStr = ingredientStr.replace('1.00 Pkt.','7.00 g')\n",
    "    ingredientStr = ingredientStr.replace('2.00 Pck.','14.00 g')\n",
    "    ingredientStr = ingredientStr.replace('1.00 EL','15.00 g')\n",
    "    ingredientStr = ingredientStr.replace('2.00 EL','30.00 g')\n",
    "    ingredientStr = ingredientStr.replace('Spritzer',' g')\n",
    "    \n",
    "    ingredientStr = ingredientStr.replace('Puderzucker','Zucker')\n",
    "    ingredientStr = ingredientStr.replace('Vanillezucker','Zucker')\n",
    "    \n",
    "    ingredientStr = ingredientStr.replace('Ei(er)','Eier')\n",
    "\n",
    "    return ingredientStr"
   ]
  },
  {
   "cell_type": "code",
   "execution_count": null,
   "metadata": {},
   "outputs": [],
   "source": [
    "recipe_values = []\n",
    "\n",
    "for file in os.listdir(\"../data/html\"):\n",
    "    if file.endswith(\".html\"):\n",
    "        recipe_id = file.split('.html')[0]\n",
    "        html_doc = os.path.join(\"../data/html\", file)\n",
    "        html_string = codecs.open(html_doc,'r', encoding=\"utf8\").read()\n",
    "        \n",
    "        recipe_json = html_string.split('<script type=\"application/ld+json\">')[2].split('</script>')[0]\n",
    "        recipe_dict = json.loads(recipe_json)\n",
    "        \n",
    "        try:\n",
    "            rating = float(recipe_dict['aggregateRating']['ratingValue'])\n",
    "        except:\n",
    "            rating = None\n",
    "        \n",
    "        try:\n",
    "            ingredients = recipe_dict['recipeIngredient']\n",
    "            ingredients = [i.replace(',', '.') for i in ingredients]\n",
    "        except Exception as r:\n",
    "            print(r)\n",
    "            ingredients = []\n",
    "        \n",
    "        values = (recipe_id, rating, ingredients)\n",
    "        recipe_values.append(values)\n",
    "        \n",
    "df = pd.DataFrame(recipe_values)\n",
    "df.columns = ['recipe_id','rating','ingredients']\n",
    "df = df.set_index('recipe_id')"
   ]
  },
  {
   "cell_type": "code",
   "execution_count": null,
   "metadata": {},
   "outputs": [],
   "source": [
    "# convert ingredients column to rows\n",
    "df_ingredients = split_data_frame_list(df, target_column=\"ingredients\")\n",
    "df_ingredients = df_ingredients.reset_index()\n",
    "df = df.drop(['ingredients'], axis=1)"
   ]
  },
  {
   "cell_type": "code",
   "execution_count": null,
   "metadata": {},
   "outputs": [],
   "source": [
    "# merge dataframes\n",
    "df = df.reset_index()\n",
    "df_merge = df.merge(df_ingredients, how='outer', on='recipe_id')\n",
    "\n",
    "# drop recipes without rating\n",
    "df_merge = df_merge.dropna(subset = ['rating'])\n",
    "\n",
    "df_merge['ingredients'] = df_merge['ingredients'].apply(parseIngredients)\n",
    "\n",
    "df_merge.head()"
   ]
  },
  {
   "cell_type": "code",
   "execution_count": null,
   "metadata": {},
   "outputs": [],
   "source": [
    "df_ingredient_count = df_merge.groupby(['ingredients']).count().reset_index()\n",
    "df_ingredient_count = df_ingredient_count.sort_values('recipe_id', ascending=False)\n",
    "df_ingredient_count.head(n=100)"
   ]
  },
  {
   "cell_type": "code",
   "execution_count": null,
   "metadata": {},
   "outputs": [],
   "source": []
  },
  {
   "cell_type": "code",
   "execution_count": null,
   "metadata": {},
   "outputs": [],
   "source": []
  }
 ],
 "metadata": {
  "kernelspec": {
   "display_name": "Python 3",
   "language": "python",
   "name": "python3"
  },
  "language_info": {
   "codemirror_mode": {
    "name": "ipython",
    "version": 3
   },
   "file_extension": ".py",
   "mimetype": "text/x-python",
   "name": "python",
   "nbconvert_exporter": "python",
   "pygments_lexer": "ipython3",
   "version": "3.6.8"
  }
 },
 "nbformat": 4,
 "nbformat_minor": 2
}
