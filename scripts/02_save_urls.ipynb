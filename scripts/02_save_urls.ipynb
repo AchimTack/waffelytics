{
 "cells": [
  {
   "cell_type": "markdown",
   "metadata": {},
   "source": [
    "## imports & functions"
   ]
  },
  {
   "cell_type": "code",
   "execution_count": 25,
   "metadata": {},
   "outputs": [],
   "source": [
    "import pandas as pd\n",
    "import urllib.request\n",
    "import time\n",
    "import os"
   ]
  },
  {
   "cell_type": "markdown",
   "metadata": {},
   "source": [
    "## main script"
   ]
  },
  {
   "cell_type": "code",
   "execution_count": 28,
   "metadata": {},
   "outputs": [],
   "source": [
    "query = 'carb'\n",
    "query_folder = '../data/html/'+query"
   ]
  },
  {
   "cell_type": "code",
   "execution_count": 31,
   "metadata": {},
   "outputs": [],
   "source": [
    "if not os.path.exists(query_folder):\n",
    "    os.makedirs(query_folder)\n",
    "\n",
    "df_urls = pd.read_csv('../data/csv/url_list_'+query+'.csv', header=None)\n",
    "df_urls = df_urls[df_urls[0].str.contains(query[1:])]"
   ]
  },
  {
   "cell_type": "code",
   "execution_count": 24,
   "metadata": {},
   "outputs": [
    {
     "name": "stdout",
     "output_type": "stream",
     "text": [
      "https://www.chefkoch.de/rezepte/3330301494435914/Bohnensalat-mit-Speckwuerfelchen-und-Kokosoel.html\n",
      "https://www.chefkoch.de/rezepte/3215621478506665/Low-Carb-Schoko-Muffins-mit-Kokosoel.html\n",
      "https://www.chefkoch.de/rezepte/3537811528706222/T-Bone-Steak-in-Kokos-Salbeioel.html\n",
      "https://www.chefkoch.de/rezepte/3200841476376144/Mandel-Kokos-Crossis.html\n",
      "https://www.chefkoch.de/rezepte/3319721492970109/Cashew-Schoko-Aufstrich-mit-Kokosnote.html\n",
      "https://www.chefkoch.de/rezepte/2631491413387545/Veganer-Fruehstueckszopf-mit-Kokosmilch-und-Kokosoel.html\n",
      "https://www.chefkoch.de/rezepte/3410011507986194/Kokos-Schoko-Brotaufstrich.html\n",
      "https://www.chefkoch.de/rezepte/2788791431011884/Kruemeltigers-Orangen-Kokos-Ruehrkuchen.html\n",
      "https://www.chefkoch.de/rezepte/3165721471265427/Gesunde-Kokos-Riegel.html\n",
      "https://www.chefkoch.de/rezepte/3525471526051685/Suesse-Kokosbroetchen-aus-Quark-Kokosoel-Teig.html\n",
      "https://www.chefkoch.de/rezepte/3330491494482146/Banane-mit-Kokosraspeln.html\n",
      "https://www.chefkoch.de/rezepte/3351761498204713/Gesunde-Apfelwaffeln-mit-Dinkelmehl-und-Kokosoel.html\n",
      "https://www.chefkoch.de/rezepte/3478641518355316/Fenchelsuppe-mit-Lauch-und-Kokosmilch.html\n",
      "https://www.chefkoch.de/rezepte/3324771493657625/Muscovado-Kaesekuchen-mit-Griess-und-Kokosoel.html\n",
      "https://www.chefkoch.de/rezepte/3560491533552777/Feine-Kokoswaffeln.html\n",
      "https://www.chefkoch.de/rezepte/3607241542383267/Tomaten-Ragout-mit-frischem-Kurkuma-in-Kokosoel.html\n",
      "https://www.chefkoch.de/rezepte/3660821551195096/Kaesekuchen-mit-Himbeeren-wenig-Zucker-und-Kokosoel.html\n",
      "https://www.chefkoch.de/rezepte/2214171354710516/Kokos-Amaranth-Plaetzchen.html\n",
      "https://www.chefkoch.de/rezepte/3328121494161278/Kokosoel-Muffins-mit-Bums.html\n",
      "https://www.chefkoch.de/rezepte/3235661481392264/Garnelen-in-Kokosoel-mit-Paprika-und-Knoblauchsauce.html\n"
     ]
    }
   ],
   "source": [
    "for index, row in df_urls.iterrows():\n",
    "    try:\n",
    "        recipe_id = row[0].split('/')[4]\n",
    "        print(row[0])\n",
    "        \n",
    "        html_file = '../data/html/'+query+'/'+recipe_id+\".html\"\n",
    "        \n",
    "        if not os.path.isfile(html_file):\n",
    "            urllib.request.urlretrieve(\"https://www.chefkoch.de/rezepte/\"+recipe_id, '../data/html/'+query+'/'+recipe_id+\".html\")\n",
    "            time.sleep(1)\n",
    "    except Exception as r:\n",
    "        print(r)"
   ]
  },
  {
   "cell_type": "code",
   "execution_count": null,
   "metadata": {},
   "outputs": [],
   "source": []
  }
 ],
 "metadata": {
  "kernelspec": {
   "display_name": "Python 3",
   "language": "python",
   "name": "python3"
  },
  "language_info": {
   "codemirror_mode": {
    "name": "ipython",
    "version": 3
   },
   "file_extension": ".py",
   "mimetype": "text/x-python",
   "name": "python",
   "nbconvert_exporter": "python",
   "pygments_lexer": "ipython3",
   "version": "3.6.8"
  },
  "toc": {
   "base_numbering": 1,
   "nav_menu": {},
   "number_sections": true,
   "sideBar": true,
   "skip_h1_title": true,
   "title_cell": "Table of Contents",
   "title_sidebar": "Contents",
   "toc_cell": false,
   "toc_position": {},
   "toc_section_display": true,
   "toc_window_display": false
  }
 },
 "nbformat": 4,
 "nbformat_minor": 2
}
